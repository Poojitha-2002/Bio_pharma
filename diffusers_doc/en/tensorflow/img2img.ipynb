{
  "cells": [
    {
      "cell_type": "markdown",
      "metadata": {
        "id": "view-in-github",
        "colab_type": "text"
      },
      "source": [
        "<a href=\"https://colab.research.google.com/github/Poojitha-2002/Bio_pharma/blob/main/diffusers_doc/en/tensorflow/img2img.ipynb\" target=\"_parent\"><img src=\"https://colab.research.google.com/assets/colab-badge.svg\" alt=\"Open In Colab\"/></a>"
      ]
    },
    {
      "cell_type": "markdown",
      "metadata": {
        "id": "NLUlRevW1FJa"
      },
      "source": [
        "# Image-to-image"
      ]
    },
    {
      "cell_type": "markdown",
      "metadata": {
        "id": "rU-qLCJ31FJd"
      },
      "source": [
        "Image-to-image is similar to [text-to-image](https://huggingface.co/docs/diffusers/main/en/using-diffusers/conditional_image_generation), but in addition to a prompt, you can also pass an initial image as a starting point for the diffusion process. The initial image is encoded to latent space and noise is added to it. Then the latent diffusion model takes a prompt and the noisy latent image, predicts the added noise, and removes the predicted noise from the initial latent image to get the new latent image. Lastly, a decoder decodes the new latent image back into an image.\n",
        "\n",
        "With 🤗 Diffusers, this is as easy as 1-2-3:\n",
        "\n",
        "1. Load a checkpoint into the [AutoPipelineForImage2Image](https://huggingface.co/docs/diffusers/main/en/api/pipelines/auto_pipeline#diffusers.AutoPipelineForImage2Image) class; this pipeline automatically handles loading the correct pipeline class  based on the checkpoint:"
      ]
    },
    {
      "cell_type": "code",
      "execution_count": null,
      "metadata": {
        "id": "RWWGYuxt1FJh"
      },
      "outputs": [],
      "source": [
        "import torch\n",
        "from diffusers import AutoPipelineForImage2Image\n",
        "from diffusers.utils import load_image, make_image_grid\n",
        "\n",
        "pipeline = AutoPipelineForImage2Image.from_pretrained(\n",
        "    \"kandinsky-community/kandinsky-2-2-decoder\", torch_dtype=torch.float16, use_safetensors=True\n",
        ")\n",
        "pipeline.enable_model_cpu_offload()\n",
        "# remove following line if xFormers is not installed or you have PyTorch 2.0 or higher installed\n",
        "pipeline.enable_xformers_memory_efficient_attention()"
      ]
    },
    {
      "cell_type": "markdown",
      "metadata": {
        "id": "_PuUSk6v1FJj"
      },
      "source": [
        "<Tip>\n",
        "\n",
        "You'll notice throughout the guide, we use [enable_model_cpu_offload()](https://huggingface.co/docs/diffusers/main/en/api/pipelines/overview#diffusers.DiffusionPipeline.enable_model_cpu_offload) and [enable_xformers_memory_efficient_attention()](https://huggingface.co/docs/diffusers/main/en/api/pipelines/overview#diffusers.DiffusionPipeline.enable_xformers_memory_efficient_attention), to save memory and increase inference speed. If you're using PyTorch 2.0, then you don't need to call [enable_xformers_memory_efficient_attention()](https://huggingface.co/docs/diffusers/main/en/api/pipelines/overview#diffusers.DiffusionPipeline.enable_xformers_memory_efficient_attention) on your pipeline because it'll already be using PyTorch 2.0's native [scaled-dot product attention](https://huggingface.co/docs/diffusers/main/en/using-diffusers/../optimization/fp16#scaled-dot-product-attention).\n",
        "\n",
        "</Tip>\n",
        "\n",
        "2. Load an image to pass to the pipeline:"
      ]
    },
    {
      "cell_type": "code",
      "execution_count": null,
      "metadata": {
        "id": "NNArv1qb1FJk"
      },
      "outputs": [],
      "source": [
        "init_image = load_image(\"https://huggingface.co/datasets/huggingface/documentation-images/resolve/main/diffusers/cat.png\")"
      ]
    },
    {
      "cell_type": "markdown",
      "metadata": {
        "id": "B0veV3I-1FJl"
      },
      "source": [
        "3. Pass a prompt and image to the pipeline to generate an image:"
      ]
    },
    {
      "cell_type": "code",
      "execution_count": null,
      "metadata": {
        "id": "h5ErmxHU1FJl"
      },
      "outputs": [],
      "source": [
        "prompt = \"cat wizard, gandalf, lord of the rings, detailed, fantasy, cute, adorable, Pixar, Disney, 8k\"\n",
        "image = pipeline(prompt, image=init_image).images[0]\n",
        "make_image_grid([init_image, image], rows=1, cols=2)"
      ]
    },
    {
      "cell_type": "markdown",
      "metadata": {
        "id": "AwGipkTd1FJl"
      },
      "source": [
        "<div class=\"flex gap-4\">\n",
        "  <div>\n",
        "    <img class=\"rounded-xl\" src=\"https://huggingface.co/datasets/huggingface/documentation-images/resolve/main/diffusers/cat.png\"/>\n",
        "    <figcaption class=\"mt-2 text-center text-sm text-gray-500\">initial image</figcaption>\n",
        "  </div>\n",
        "  <div>\n",
        "    <img class=\"rounded-xl\" src=\"https://huggingface.co/datasets/huggingface/documentation-images/resolve/main/diffusers/img2img.png\"/>\n",
        "    <figcaption class=\"mt-2 text-center text-sm text-gray-500\">generated image</figcaption>\n",
        "  </div>\n",
        "</div>"
      ]
    },
    {
      "cell_type": "markdown",
      "metadata": {
        "id": "kf79ABcQ1FJm"
      },
      "source": [
        "## Popular models"
      ]
    },
    {
      "cell_type": "markdown",
      "metadata": {
        "id": "2Lbx7-DU1FJn"
      },
      "source": [
        "The most popular image-to-image models are [Stable Diffusion v1.5](https://huggingface.co/stable-diffusion-v1-5/stable-diffusion-v1-5), [Stable Diffusion XL (SDXL)](https://huggingface.co/stabilityai/stable-diffusion-xl-base-1.0), and [Kandinsky 2.2](https://huggingface.co/kandinsky-community/kandinsky-2-2-decoder). The results from the Stable Diffusion and Kandinsky models vary due to their architecture differences and training process; you can generally expect SDXL to produce higher quality images than Stable Diffusion v1.5. Let's take a quick look at how to use each of these models and compare their results."
      ]
    },
    {
      "cell_type": "markdown",
      "metadata": {
        "id": "ygUhqOBk1FJo"
      },
      "source": [
        "### Stable Diffusion v1.5"
      ]
    },
    {
      "cell_type": "markdown",
      "metadata": {
        "id": "ipKraL8B1FJp"
      },
      "source": [
        "Stable Diffusion v1.5 is a latent diffusion model initialized from an earlier checkpoint, and further finetuned for 595K steps on 512x512 images. To use this pipeline for image-to-image, you'll need to prepare an initial image to pass to the pipeline. Then you can pass a prompt and the image to the pipeline to generate a new image:"
      ]
    },
    {
      "cell_type": "code",
      "execution_count": null,
      "metadata": {
        "id": "bB6SCDD41FJp"
      },
      "outputs": [],
      "source": [
        "import torch\n",
        "from diffusers import AutoPipelineForImage2Image\n",
        "from diffusers.utils import make_image_grid, load_image\n",
        "\n",
        "pipeline = AutoPipelineForImage2Image.from_pretrained(\n",
        "    \"stable-diffusion-v1-5/stable-diffusion-v1-5\", torch_dtype=torch.float16, variant=\"fp16\", use_safetensors=True\n",
        ")\n",
        "\n",
        "\n",
        "\n",
        "from google.colab import userdata\n",
        "userdata.get('HF_TOKEN')\n",
        "\n",
        "\n",
        "pipeline.enable_model_cpu_offload()\n",
        "# remove following line if xFormers is not installed or you have PyTorch 2.0 or higher installed\n",
        "pipeline.enable_xformers_memory_efficient_attention()\n",
        "\n",
        "# prepare image\n",
        "url = \"https://huggingface.co/datasets/huggingface/documentation-images/resolve/main/diffusers/img2img-init.png\"\n",
        "init_image = load_image(url)\n",
        "\n",
        "prompt = \"Astronaut in a jungle, cold color palette, muted colors, detailed, 8k\"\n",
        "\n",
        "# pass prompt and image to pipeline\n",
        "image = pipeline(prompt, image=init_image).images[0]\n",
        "make_image_grid([init_image, image], rows=1, cols=2)"
      ]
    },
    {
      "cell_type": "markdown",
      "metadata": {
        "id": "U02BnLwi1FJr"
      },
      "source": [
        "<div class=\"flex gap-4\">\n",
        "  <div>\n",
        "    <img class=\"rounded-xl\" src=\"https://huggingface.co/datasets/huggingface/documentation-images/resolve/main/diffusers/img2img-init.png\"/>\n",
        "    <figcaption class=\"mt-2 text-center text-sm text-gray-500\">initial image</figcaption>\n",
        "  </div>\n",
        "  <div>\n",
        "    <img class=\"rounded-xl\" src=\"https://huggingface.co/datasets/huggingface/documentation-images/resolve/main/diffusers/img2img-sdv1.5.png\"/>\n",
        "    <figcaption class=\"mt-2 text-center text-sm text-gray-500\">generated image</figcaption>\n",
        "  </div>\n",
        "</div>"
      ]
    },
    {
      "cell_type": "markdown",
      "metadata": {
        "id": "wmFpwRrp1FJs"
      },
      "source": [
        "### Stable Diffusion XL (SDXL)"
      ]
    },
    {
      "cell_type": "markdown",
      "metadata": {
        "id": "O3hvXjd11FJs"
      },
      "source": [
        "SDXL is a more powerful version of the Stable Diffusion model. It uses a larger base model, and an additional refiner model to increase the quality of the base model's output. Read the [SDXL](https://huggingface.co/docs/diffusers/main/en/using-diffusers/sdxl) guide for a more detailed walkthrough of how to use this model, and other techniques it uses to produce high quality images."
      ]
    },
    {
      "cell_type": "code",
      "execution_count": null,
      "metadata": {
        "id": "Z31K2tTj1FJs"
      },
      "outputs": [],
      "source": [
        "import torch\n",
        "from diffusers import AutoPipelineForImage2Image\n",
        "from diffusers.utils import make_image_grid, load_image\n",
        "\n",
        "pipeline = AutoPipelineForImage2Image.from_pretrained(\n",
        "    \"stabilityai/stable-diffusion-xl-refiner-1.0\", torch_dtype=torch.float16, variant=\"fp16\", use_safetensors=True\n",
        ")\n",
        "pipeline.enable_model_cpu_offload()\n",
        "# remove following line if xFormers is not installed or you have PyTorch 2.0 or higher installed\n",
        "pipeline.enable_xformers_memory_efficient_attention()\n",
        "\n",
        "# prepare image\n",
        "url = \"https://huggingface.co/datasets/huggingface/documentation-images/resolve/main/diffusers/img2img-sdxl-init.png\"\n",
        "init_image = load_image(url)\n",
        "\n",
        "prompt = \"Astronaut in a jungle, cold color palette, muted colors, detailed, 8k\"\n",
        "\n",
        "# pass prompt and image to pipeline\n",
        "image = pipeline(prompt, image=init_image, strength=0.5).images[0]\n",
        "make_image_grid([init_image, image], rows=1, cols=2)"
      ]
    },
    {
      "cell_type": "markdown",
      "metadata": {
        "id": "4L4J0gbD1FJt"
      },
      "source": [
        "<div class=\"flex gap-4\">\n",
        "  <div>\n",
        "    <img class=\"rounded-xl\" src=\"https://huggingface.co/datasets/huggingface/documentation-images/resolve/main/diffusers/img2img-sdxl-init.png\"/>\n",
        "    <figcaption class=\"mt-2 text-center text-sm text-gray-500\">initial image</figcaption>\n",
        "  </div>\n",
        "  <div>\n",
        "    <img class=\"rounded-xl\" src=\"https://huggingface.co/datasets/huggingface/documentation-images/resolve/main/diffusers/img2img-sdxl.png\"/>\n",
        "    <figcaption class=\"mt-2 text-center text-sm text-gray-500\">generated image</figcaption>\n",
        "  </div>\n",
        "</div>"
      ]
    },
    {
      "cell_type": "markdown",
      "metadata": {
        "id": "BYUetUQs1FJu"
      },
      "source": [
        "### Kandinsky 2.2"
      ]
    },
    {
      "cell_type": "markdown",
      "metadata": {
        "id": "9eKnl79u1FJu"
      },
      "source": [
        "The Kandinsky model is different from the Stable Diffusion models because it uses an image prior model to create image embeddings. The embeddings help create a better alignment between text and images, allowing the latent diffusion model to generate better images.\n",
        "\n",
        "The simplest way to use Kandinsky 2.2 is:"
      ]
    },
    {
      "cell_type": "code",
      "execution_count": null,
      "metadata": {
        "id": "k6_SIK9v1FJv"
      },
      "outputs": [],
      "source": [
        "import torch\n",
        "from diffusers import AutoPipelineForImage2Image\n",
        "from diffusers.utils import make_image_grid, load_image\n",
        "\n",
        "pipeline = AutoPipelineForImage2Image.from_pretrained(\n",
        "    \"kandinsky-community/kandinsky-2-2-decoder\", torch_dtype=torch.float16, use_safetensors=True\n",
        ")\n",
        "pipeline.enable_model_cpu_offload()\n",
        "# remove following line if xFormers is not installed or you have PyTorch 2.0 or higher installed\n",
        "pipeline.enable_xformers_memory_efficient_attention()\n",
        "\n",
        "# prepare image\n",
        "url = \"https://huggingface.co/datasets/huggingface/documentation-images/resolve/main/diffusers/img2img-init.png\"\n",
        "init_image = load_image(url)\n",
        "\n",
        "prompt = \"Astronaut in a jungle, cold color palette, muted colors, detailed, 8k\"\n",
        "\n",
        "# pass prompt and image to pipeline\n",
        "image = pipeline(prompt, image=init_image).images[0]\n",
        "make_image_grid([init_image, image], rows=1, cols=2)"
      ]
    },
    {
      "cell_type": "markdown",
      "metadata": {
        "id": "8NQioG0i1FJv"
      },
      "source": [
        "<div class=\"flex gap-4\">\n",
        "  <div>\n",
        "    <img class=\"rounded-xl\" src=\"https://huggingface.co/datasets/huggingface/documentation-images/resolve/main/diffusers/img2img-init.png\"/>\n",
        "    <figcaption class=\"mt-2 text-center text-sm text-gray-500\">initial image</figcaption>\n",
        "  </div>\n",
        "  <div>\n",
        "    <img class=\"rounded-xl\" src=\"https://huggingface.co/datasets/huggingface/documentation-images/resolve/main/diffusers/img2img-kandinsky.png\"/>\n",
        "    <figcaption class=\"mt-2 text-center text-sm text-gray-500\">generated image</figcaption>\n",
        "  </div>\n",
        "</div>"
      ]
    },
    {
      "cell_type": "markdown",
      "metadata": {
        "id": "iw2j6eEq1FJw"
      },
      "source": [
        "## Configure pipeline parameters"
      ]
    },
    {
      "cell_type": "markdown",
      "metadata": {
        "id": "D1jsS3N31FJw"
      },
      "source": [
        "There are several important parameters you can configure in the pipeline that'll affect the image generation process and image quality. Let's take a closer look at what these parameters do and how changing them affects the output."
      ]
    },
    {
      "cell_type": "markdown",
      "metadata": {
        "id": "ndpYNnP51FJw"
      },
      "source": [
        "### Strength"
      ]
    },
    {
      "cell_type": "markdown",
      "metadata": {
        "id": "JYh4Ejvg1FJw"
      },
      "source": [
        "`strength` is one of the most important parameters to consider and it'll have a huge impact on your generated image. It determines how much the generated image resembles the initial image. In other words:\n",
        "\n",
        "- 📈 a higher `strength` value gives the model more \"creativity\" to generate an image that's different from the initial image; a `strength` value of 1.0 means the initial image is more or less ignored\n",
        "- 📉 a lower `strength` value means the generated image is more similar to the initial image\n",
        "\n",
        "The `strength` and `num_inference_steps` parameters are related because `strength` determines the number of noise steps to add. For example, if the `num_inference_steps` is 50 and `strength` is 0.8, then this means adding 40 (50 * 0.8) steps of noise to the initial image and then denoising for 40 steps to get the newly generated image."
      ]
    },
    {
      "cell_type": "code",
      "execution_count": null,
      "metadata": {
        "id": "9UX4LKUD1FJx"
      },
      "outputs": [],
      "source": [
        "import torch\n",
        "from diffusers import AutoPipelineForImage2Image\n",
        "from diffusers.utils import make_image_grid, load_image\n",
        "\n",
        "pipeline = AutoPipelineForImage2Image.from_pretrained(\n",
        "    \"stable-diffusion-v1-5/stable-diffusion-v1-5\", torch_dtype=torch.float16, variant=\"fp16\", use_safetensors=True\n",
        ")\n",
        "pipeline.enable_model_cpu_offload()\n",
        "# remove following line if xFormers is not installed or you have PyTorch 2.0 or higher installed\n",
        "pipeline.enable_xformers_memory_efficient_attention()\n",
        "\n",
        "# prepare image\n",
        "url = \"https://huggingface.co/datasets/huggingface/documentation-images/resolve/main/diffusers/img2img-init.png\"\n",
        "init_image = load_image(url)\n",
        "\n",
        "prompt = \"Astronaut in a jungle, cold color palette, muted colors, detailed, 8k\"\n",
        "\n",
        "# pass prompt and image to pipeline\n",
        "image = pipeline(prompt, image=init_image, strength=0.8).images[0]\n",
        "make_image_grid([init_image, image], rows=1, cols=2)"
      ]
    },
    {
      "cell_type": "markdown",
      "metadata": {
        "id": "0TX4utBY1FJy"
      },
      "source": [
        "<div class=\"flex flex-row gap-4\">\n",
        "  <div class=\"flex-1\">\n",
        "    <img class=\"rounded-xl\" src=\"https://huggingface.co/datasets/huggingface/documentation-images/resolve/main/diffusers/img2img-strength-0.4.png\"/>\n",
        "    <figcaption class=\"mt-2 text-center text-sm text-gray-500\">strength = 0.4</figcaption>\n",
        "  </div>\n",
        "  <div class=\"flex-1\">\n",
        "    <img class=\"rounded-xl\" src=\"https://huggingface.co/datasets/huggingface/documentation-images/resolve/main/diffusers/img2img-strength-0.6.png\"/>\n",
        "    <figcaption class=\"mt-2 text-center text-sm text-gray-500\">strength = 0.6</figcaption>\n",
        "  </div>\n",
        "  <div class=\"flex-1\">\n",
        "    <img class=\"rounded-xl\" src=\"https://huggingface.co/datasets/huggingface/documentation-images/resolve/main/diffusers/img2img-strength-1.0.png\"/>\n",
        "    <figcaption class=\"mt-2 text-center text-sm text-gray-500\">strength = 1.0</figcaption>\n",
        "  </div>\n",
        "</div>"
      ]
    },
    {
      "cell_type": "markdown",
      "metadata": {
        "id": "GrDsiOXr1FJz"
      },
      "source": [
        "### Guidance scale"
      ]
    },
    {
      "cell_type": "markdown",
      "metadata": {
        "id": "fW6ne28B1FJz"
      },
      "source": [
        "The `guidance_scale` parameter is used to control how closely aligned the generated image and text prompt are. A higher `guidance_scale` value means your generated image is more aligned with the prompt, while a lower `guidance_scale` value means your generated image has more space to deviate from the prompt.\n",
        "\n",
        "You can combine `guidance_scale` with `strength` for even more precise control over how expressive the model is. For example, combine a high `strength + guidance_scale` for maximum creativity or use a combination of low `strength` and low `guidance_scale` to generate an image that resembles the initial image but is not as strictly bound to the prompt."
      ]
    },
    {
      "cell_type": "code",
      "execution_count": null,
      "metadata": {
        "id": "LN4NSs4M1FJ0"
      },
      "outputs": [],
      "source": [
        "import torch\n",
        "from diffusers import AutoPipelineForImage2Image\n",
        "from diffusers.utils import make_image_grid, load_image\n",
        "\n",
        "pipeline = AutoPipelineForImage2Image.from_pretrained(\n",
        "    \"stable-diffusion-v1-5/stable-diffusion-v1-5\", torch_dtype=torch.float16, variant=\"fp16\", use_safetensors=True\n",
        ")\n",
        "pipeline.enable_model_cpu_offload()\n",
        "# remove following line if xFormers is not installed or you have PyTorch 2.0 or higher installed\n",
        "pipeline.enable_xformers_memory_efficient_attention()\n",
        "\n",
        "# prepare image\n",
        "url = \"https://huggingface.co/datasets/huggingface/documentation-images/resolve/main/diffusers/img2img-init.png\"\n",
        "init_image = load_image(url)\n",
        "\n",
        "prompt = \"Astronaut in a jungle, cold color palette, muted colors, detailed, 8k\"\n",
        "\n",
        "# pass prompt and image to pipeline\n",
        "image = pipeline(prompt, image=init_image, guidance_scale=8.0).images[0]\n",
        "make_image_grid([init_image, image], rows=1, cols=2)"
      ]
    },
    {
      "cell_type": "markdown",
      "metadata": {
        "id": "WJjEKgeN1FJ0"
      },
      "source": [
        "<div class=\"flex flex-row gap-4\">\n",
        "  <div class=\"flex-1\">\n",
        "    <img class=\"rounded-xl\" src=\"https://huggingface.co/datasets/huggingface/documentation-images/resolve/main/diffusers/img2img-guidance-0.1.png\"/>\n",
        "    <figcaption class=\"mt-2 text-center text-sm text-gray-500\">guidance_scale = 0.1</figcaption>\n",
        "  </div>\n",
        "  <div class=\"flex-1\">\n",
        "    <img class=\"rounded-xl\" src=\"https://huggingface.co/datasets/huggingface/documentation-images/resolve/main/diffusers/img2img-guidance-3.0.png\"/>\n",
        "    <figcaption class=\"mt-2 text-center text-sm text-gray-500\">guidance_scale = 5.0</figcaption>\n",
        "  </div>\n",
        "  <div class=\"flex-1\">\n",
        "    <img class=\"rounded-xl\" src=\"https://huggingface.co/datasets/huggingface/documentation-images/resolve/main/diffusers/img2img-guidance-7.5.png\"/>\n",
        "    <figcaption class=\"mt-2 text-center text-sm text-gray-500\">guidance_scale = 10.0</figcaption>\n",
        "  </div>\n",
        "</div>"
      ]
    },
    {
      "cell_type": "markdown",
      "metadata": {
        "id": "K_-Uhimk1FJ1"
      },
      "source": [
        "### Negative prompt"
      ]
    },
    {
      "cell_type": "markdown",
      "metadata": {
        "id": "uzFco0Oo1FJ2"
      },
      "source": [
        "A negative prompt conditions the model to *not* include things in an image, and it can be used to improve image quality or modify an image. For example, you can improve image quality by including negative prompts like \"poor details\" or \"blurry\" to encourage the model to generate a higher quality image. Or you can modify an image by specifying things to exclude from an image."
      ]
    },
    {
      "cell_type": "code",
      "execution_count": null,
      "metadata": {
        "id": "aq8fvkzw1FJ2"
      },
      "outputs": [],
      "source": [
        "import torch\n",
        "from diffusers import AutoPipelineForImage2Image\n",
        "from diffusers.utils import make_image_grid, load_image\n",
        "\n",
        "pipeline = AutoPipelineForImage2Image.from_pretrained(\n",
        "    \"stabilityai/stable-diffusion-xl-refiner-1.0\", torch_dtype=torch.float16, variant=\"fp16\", use_safetensors=True\n",
        ")\n",
        "pipeline.enable_model_cpu_offload()\n",
        "# remove following line if xFormers is not installed or you have PyTorch 2.0 or higher installed\n",
        "pipeline.enable_xformers_memory_efficient_attention()\n",
        "\n",
        "# prepare image\n",
        "url = \"https://huggingface.co/datasets/huggingface/documentation-images/resolve/main/diffusers/img2img-init.png\"\n",
        "init_image = load_image(url)\n",
        "\n",
        "prompt = \"Astronaut in a jungle, cold color palette, muted colors, detailed, 8k\"\n",
        "negative_prompt = \"ugly, deformed, disfigured, poor details, bad anatomy\"\n",
        "\n",
        "# pass prompt and image to pipeline\n",
        "image = pipeline(prompt, negative_prompt=negative_prompt, image=init_image).images[0]\n",
        "make_image_grid([init_image, image], rows=1, cols=2)"
      ]
    },
    {
      "cell_type": "markdown",
      "metadata": {
        "id": "wqVEcW5p1FJ3"
      },
      "source": [
        "<div class=\"flex flex-row gap-4\">\n",
        "  <div class=\"flex-1\">\n",
        "    <img class=\"rounded-xl\" src=\"https://huggingface.co/datasets/huggingface/documentation-images/resolve/main/diffusers/img2img-negative-1.png\"/>\n",
        "    <figcaption class=\"mt-2 text-center text-sm text-gray-500\">negative_prompt = \"ugly, deformed, disfigured, poor details, bad anatomy\"</figcaption>\n",
        "  </div>\n",
        "  <div class=\"flex-1\">\n",
        "    <img class=\"rounded-xl\" src=\"https://huggingface.co/datasets/huggingface/documentation-images/resolve/main/diffusers/img2img-negative-2.png\"/>\n",
        "    <figcaption class=\"mt-2 text-center text-sm text-gray-500\">negative_prompt = \"jungle\"</figcaption>\n",
        "  </div>\n",
        "</div>"
      ]
    },
    {
      "cell_type": "markdown",
      "metadata": {
        "id": "N9Flek-w1FJ3"
      },
      "source": [
        "## Chained image-to-image pipelines"
      ]
    },
    {
      "cell_type": "markdown",
      "metadata": {
        "id": "JUABTYEQ1FJ4"
      },
      "source": [
        "There are some other interesting ways you can use an image-to-image pipeline aside from just generating an image (although that is pretty cool too). You can take it a step further and chain it with other pipelines."
      ]
    },
    {
      "cell_type": "markdown",
      "metadata": {
        "id": "FWo0EMFy1FJ5"
      },
      "source": [
        "### Text-to-image-to-image"
      ]
    },
    {
      "cell_type": "markdown",
      "metadata": {
        "id": "ErHJ14WH1FKD"
      },
      "source": [
        "Chaining a text-to-image and image-to-image pipeline allows you to generate an image from text and use the generated image as the initial image for the image-to-image pipeline. This is useful if you want to generate an image entirely from scratch. For example, let's chain a Stable Diffusion and a Kandinsky model.\n",
        "\n",
        "Start by generating an image with the text-to-image pipeline:"
      ]
    },
    {
      "cell_type": "code",
      "execution_count": null,
      "metadata": {
        "id": "2_SkgHAo1FKE"
      },
      "outputs": [],
      "source": [
        "from diffusers import AutoPipelineForText2Image, AutoPipelineForImage2Image\n",
        "import torch\n",
        "from diffusers.utils import make_image_grid\n",
        "\n",
        "pipeline = AutoPipelineForText2Image.from_pretrained(\n",
        "    \"stable-diffusion-v1-5/stable-diffusion-v1-5\", torch_dtype=torch.float16, variant=\"fp16\", use_safetensors=True\n",
        ")\n",
        "pipeline.enable_model_cpu_offload()\n",
        "# remove following line if xFormers is not installed or you have PyTorch 2.0 or higher installed\n",
        "pipeline.enable_xformers_memory_efficient_attention()\n",
        "\n",
        "text2image = pipeline(\"Astronaut in a jungle, cold color palette, muted colors, detailed, 8k\").images[0]\n",
        "text2image"
      ]
    },
    {
      "cell_type": "markdown",
      "metadata": {
        "id": "CsTF9uLY1FKF"
      },
      "source": [
        "Now you can pass this generated image to the image-to-image pipeline:"
      ]
    },
    {
      "cell_type": "code",
      "execution_count": null,
      "metadata": {
        "id": "XBIK-aZF1FKH"
      },
      "outputs": [],
      "source": [
        "pipeline = AutoPipelineForImage2Image.from_pretrained(\n",
        "    \"kandinsky-community/kandinsky-2-2-decoder\", torch_dtype=torch.float16, use_safetensors=True\n",
        ")\n",
        "pipeline.enable_model_cpu_offload()\n",
        "# remove following line if xFormers is not installed or you have PyTorch 2.0 or higher installed\n",
        "pipeline.enable_xformers_memory_efficient_attention()\n",
        "\n",
        "image2image = pipeline(\"Astronaut in a jungle, cold color palette, muted colors, detailed, 8k\", image=text2image).images[0]\n",
        "make_image_grid([text2image, image2image], rows=1, cols=2)"
      ]
    },
    {
      "cell_type": "markdown",
      "metadata": {
        "id": "nxZB3WMN1FKI"
      },
      "source": [
        "### Image-to-image-to-image"
      ]
    },
    {
      "cell_type": "markdown",
      "metadata": {
        "id": "PLT2BoXP1FKJ"
      },
      "source": [
        "You can also chain multiple image-to-image pipelines together to create more interesting images. This can be useful for iteratively performing style transfer on an image, generating short GIFs, restoring color to an image, or restoring missing areas of an image.\n",
        "\n",
        "Start by generating an image:"
      ]
    },
    {
      "cell_type": "code",
      "execution_count": null,
      "metadata": {
        "id": "caLsa4gf1FKM"
      },
      "outputs": [],
      "source": [
        "import torch\n",
        "from diffusers import AutoPipelineForImage2Image\n",
        "from diffusers.utils import make_image_grid, load_image\n",
        "\n",
        "pipeline = AutoPipelineForImage2Image.from_pretrained(\n",
        "    \"stable-diffusion-v1-5/stable-diffusion-v1-5\", torch_dtype=torch.float16, variant=\"fp16\", use_safetensors=True\n",
        ")\n",
        "pipeline.enable_model_cpu_offload()\n",
        "# remove following line if xFormers is not installed or you have PyTorch 2.0 or higher installed\n",
        "pipeline.enable_xformers_memory_efficient_attention()\n",
        "\n",
        "# prepare image\n",
        "url = \"https://huggingface.co/datasets/huggingface/documentation-images/resolve/main/diffusers/img2img-init.png\"\n",
        "init_image = load_image(url)\n",
        "\n",
        "prompt = \"Astronaut in a jungle, cold color palette, muted colors, detailed, 8k\"\n",
        "\n",
        "# pass prompt and image to pipeline\n",
        "image = pipeline(prompt, image=init_image, output_type=\"latent\").images[0]"
      ]
    },
    {
      "cell_type": "markdown",
      "metadata": {
        "id": "95a9U3PJ1FKN"
      },
      "source": [
        "<Tip>\n",
        "\n",
        "It is important to specify `output_type=\"latent\"` in the pipeline to keep all the outputs in latent space to avoid an unnecessary decode-encode step. This only works if the chained pipelines are using the same VAE.\n",
        "\n",
        "</Tip>\n",
        "\n",
        "Pass the latent output from this pipeline to the next pipeline to generate an image in a [comic book art style](https://huggingface.co/ogkalu/Comic-Diffusion):"
      ]
    },
    {
      "cell_type": "code",
      "execution_count": null,
      "metadata": {
        "id": "h_Yoyl0q1FKN"
      },
      "outputs": [],
      "source": [
        "pipeline = AutoPipelineForImage2Image.from_pretrained(\n",
        "    \"ogkalu/Comic-Diffusion\", torch_dtype=torch.float16\n",
        ")\n",
        "pipeline.enable_model_cpu_offload()\n",
        "# remove following line if xFormers is not installed or you have PyTorch 2.0 or higher installed\n",
        "pipeline.enable_xformers_memory_efficient_attention()\n",
        "\n",
        "# need to include the token \"charliebo artstyle\" in the prompt to use this checkpoint\n",
        "image = pipeline(\"Astronaut in a jungle, charliebo artstyle\", image=image, output_type=\"latent\").images[0]"
      ]
    },
    {
      "cell_type": "markdown",
      "metadata": {
        "id": "GAdWsukj1FKO"
      },
      "source": [
        "Repeat one more time to generate the final image in a [pixel art style](https://huggingface.co/kohbanye/pixel-art-style):"
      ]
    },
    {
      "cell_type": "code",
      "execution_count": null,
      "metadata": {
        "id": "-9WQAazh1FKP"
      },
      "outputs": [],
      "source": [
        "pipeline = AutoPipelineForImage2Image.from_pretrained(\n",
        "    \"kohbanye/pixel-art-style\", torch_dtype=torch.float16\n",
        ")\n",
        "pipeline.enable_model_cpu_offload()\n",
        "# remove following line if xFormers is not installed or you have PyTorch 2.0 or higher installed\n",
        "pipeline.enable_xformers_memory_efficient_attention()\n",
        "\n",
        "# need to include the token \"pixelartstyle\" in the prompt to use this checkpoint\n",
        "image = pipeline(\"Astronaut in a jungle, pixelartstyle\", image=image).images[0]\n",
        "make_image_grid([init_image, image], rows=1, cols=2)"
      ]
    },
    {
      "cell_type": "markdown",
      "metadata": {
        "id": "8NxMkNhs1FKP"
      },
      "source": [
        "### Image-to-upscaler-to-super-resolution"
      ]
    },
    {
      "cell_type": "markdown",
      "metadata": {
        "id": "JypakUQg1FKQ"
      },
      "source": [
        "Another way you can chain your image-to-image pipeline is with an upscaler and super-resolution pipeline to really increase the level of details in an image.\n",
        "\n",
        "Start with an image-to-image pipeline:"
      ]
    },
    {
      "cell_type": "code",
      "execution_count": null,
      "metadata": {
        "id": "fEJCdxsM1FKQ"
      },
      "outputs": [],
      "source": [
        "import torch\n",
        "from diffusers import AutoPipelineForImage2Image\n",
        "from diffusers.utils import make_image_grid, load_image\n",
        "\n",
        "pipeline = AutoPipelineForImage2Image.from_pretrained(\n",
        "    \"stable-diffusion-v1-5/stable-diffusion-v1-5\", torch_dtype=torch.float16, variant=\"fp16\", use_safetensors=True\n",
        ")\n",
        "pipeline.enable_model_cpu_offload()\n",
        "# remove following line if xFormers is not installed or you have PyTorch 2.0 or higher installed\n",
        "pipeline.enable_xformers_memory_efficient_attention()\n",
        "\n",
        "# prepare image\n",
        "url = \"https://huggingface.co/datasets/huggingface/documentation-images/resolve/main/diffusers/img2img-init.png\"\n",
        "init_image = load_image(url)\n",
        "\n",
        "prompt = \"Astronaut in a jungle, cold color palette, muted colors, detailed, 8k\"\n",
        "\n",
        "# pass prompt and image to pipeline\n",
        "image_1 = pipeline(prompt, image=init_image, output_type=\"latent\").images[0]"
      ]
    },
    {
      "cell_type": "markdown",
      "metadata": {
        "id": "kO08BoTS1FKR"
      },
      "source": [
        "<Tip>\n",
        "\n",
        "It is important to specify `output_type=\"latent\"` in the pipeline to keep all the outputs in *latent* space to avoid an unnecessary decode-encode step. This only works if the chained pipelines are using the same VAE.\n",
        "\n",
        "</Tip>\n",
        "\n",
        "Chain it to an upscaler pipeline to increase the image resolution:"
      ]
    },
    {
      "cell_type": "code",
      "execution_count": null,
      "metadata": {
        "id": "vBathZWv1FKS"
      },
      "outputs": [],
      "source": [
        "from diffusers import StableDiffusionLatentUpscalePipeline\n",
        "\n",
        "upscaler = StableDiffusionLatentUpscalePipeline.from_pretrained(\n",
        "    \"stabilityai/sd-x2-latent-upscaler\", torch_dtype=torch.float16, use_safetensors=True\n",
        ")\n",
        "upscaler.enable_model_cpu_offload()\n",
        "upscaler.enable_xformers_memory_efficient_attention()\n",
        "\n",
        "image_2 = upscaler(prompt, image=image_1).images[0]"
      ]
    },
    {
      "cell_type": "markdown",
      "metadata": {
        "id": "GS8iT_JU1FKS"
      },
      "source": [
        "Finally, chain it to a super-resolution pipeline to further enhance the resolution:"
      ]
    },
    {
      "cell_type": "code",
      "execution_count": null,
      "metadata": {
        "id": "qw66_l-e1FKT"
      },
      "outputs": [],
      "source": [
        "from diffusers import StableDiffusionUpscalePipeline\n",
        "\n",
        "super_res = StableDiffusionUpscalePipeline.from_pretrained(\n",
        "    \"stabilityai/stable-diffusion-x4-upscaler\", torch_dtype=torch.float16, variant=\"fp16\", use_safetensors=True\n",
        ")\n",
        "super_res.enable_model_cpu_offload()\n",
        "super_res.enable_xformers_memory_efficient_attention()\n",
        "\n",
        "image_3 = super_res(prompt, image=image_2).images[0]\n",
        "make_image_grid([init_image, image_3.resize((512, 512))], rows=1, cols=2)"
      ]
    },
    {
      "cell_type": "markdown",
      "metadata": {
        "id": "zXyzQr2J1FKU"
      },
      "source": [
        "## Control image generation"
      ]
    },
    {
      "cell_type": "markdown",
      "metadata": {
        "id": "ZLP5Rclr1FKU"
      },
      "source": [
        "Trying to generate an image that looks exactly the way you want can be difficult, which is why controlled generation techniques and models are so useful. While you can use the `negative_prompt` to partially control image generation, there are more robust methods like prompt weighting and ControlNets."
      ]
    },
    {
      "cell_type": "markdown",
      "metadata": {
        "id": "FqSx2Ht_1FKU"
      },
      "source": [
        "### Prompt weighting"
      ]
    },
    {
      "cell_type": "markdown",
      "metadata": {
        "id": "TTYrOnow1FKV"
      },
      "source": [
        "Prompt weighting allows you to scale the representation of each concept in a prompt. For example, in a prompt like \"Astronaut in a jungle, cold color palette, muted colors, detailed, 8k\", you can choose to increase or decrease the embeddings of \"astronaut\" and \"jungle\". The [Compel](https://github.com/damian0815/compel) library provides a simple syntax for adjusting prompt weights and generating the embeddings. You can learn how to create the embeddings in the [Prompt weighting](https://huggingface.co/docs/diffusers/main/en/using-diffusers/weighted_prompts) guide.\n",
        "\n",
        "[AutoPipelineForImage2Image](https://huggingface.co/docs/diffusers/main/en/api/pipelines/auto_pipeline#diffusers.AutoPipelineForImage2Image) has a `prompt_embeds` (and `negative_prompt_embeds` if you're using a negative prompt) parameter where you can pass the embeddings which replaces the `prompt` parameter."
      ]
    },
    {
      "cell_type": "code",
      "execution_count": null,
      "metadata": {
        "id": "x6unFXl61FKV"
      },
      "outputs": [],
      "source": [
        "from diffusers import AutoPipelineForImage2Image\n",
        "import torch\n",
        "\n",
        "pipeline = AutoPipelineForImage2Image.from_pretrained(\n",
        "    \"stable-diffusion-v1-5/stable-diffusion-v1-5\", torch_dtype=torch.float16, variant=\"fp16\", use_safetensors=True\n",
        ")\n",
        "pipeline.enable_model_cpu_offload()\n",
        "# remove following line if xFormers is not installed or you have PyTorch 2.0 or higher installed\n",
        "pipeline.enable_xformers_memory_efficient_attention()\n",
        "\n",
        "image = pipeline(prompt_embeds=prompt_embeds, # generated from Compel\n",
        "    negative_prompt_embeds=negative_prompt_embeds, # generated from Compel\n",
        "    image=init_image,\n",
        ").images[0]"
      ]
    },
    {
      "cell_type": "markdown",
      "metadata": {
        "id": "q4TeyLC81FKW"
      },
      "source": [
        "### ControlNet"
      ]
    },
    {
      "cell_type": "markdown",
      "metadata": {
        "id": "LCH1MMhp1FKW"
      },
      "source": [
        "ControlNets provide a more flexible and accurate way to control image generation because you can use an additional conditioning image. The conditioning image can be a canny image, depth map, image segmentation, and even scribbles! Whatever type of conditioning image you choose, the ControlNet generates an image that preserves the information in it.\n",
        "\n",
        "For example, let's condition an image with a depth map to keep the spatial information in the image."
      ]
    },
    {
      "cell_type": "code",
      "execution_count": null,
      "metadata": {
        "id": "gq241cDy1FKW"
      },
      "outputs": [],
      "source": [
        "from diffusers.utils import load_image, make_image_grid\n",
        "\n",
        "# prepare image\n",
        "url = \"https://huggingface.co/datasets/huggingface/documentation-images/resolve/main/diffusers/img2img-init.png\"\n",
        "init_image = load_image(url)\n",
        "init_image = init_image.resize((958, 960)) # resize to depth image dimensions\n",
        "depth_image = load_image(\"https://huggingface.co/lllyasviel/control_v11f1p_sd15_depth/resolve/main/images/control.png\")\n",
        "make_image_grid([init_image, depth_image], rows=1, cols=2)"
      ]
    },
    {
      "cell_type": "markdown",
      "metadata": {
        "id": "UZUAdLNm1FKX"
      },
      "source": [
        "Load a ControlNet model conditioned on depth maps and the [AutoPipelineForImage2Image](https://huggingface.co/docs/diffusers/main/en/api/pipelines/auto_pipeline#diffusers.AutoPipelineForImage2Image):"
      ]
    },
    {
      "cell_type": "code",
      "execution_count": null,
      "metadata": {
        "id": "GQW5PMFA1FKX"
      },
      "outputs": [],
      "source": [
        "from diffusers import ControlNetModel, AutoPipelineForImage2Image\n",
        "import torch\n",
        "\n",
        "controlnet = ControlNetModel.from_pretrained(\"lllyasviel/control_v11f1p_sd15_depth\", torch_dtype=torch.float16, variant=\"fp16\", use_safetensors=True)\n",
        "pipeline = AutoPipelineForImage2Image.from_pretrained(\n",
        "    \"stable-diffusion-v1-5/stable-diffusion-v1-5\", controlnet=controlnet, torch_dtype=torch.float16, variant=\"fp16\", use_safetensors=True\n",
        ")\n",
        "pipeline.enable_model_cpu_offload()\n",
        "# remove following line if xFormers is not installed or you have PyTorch 2.0 or higher installed\n",
        "pipeline.enable_xformers_memory_efficient_attention()"
      ]
    },
    {
      "cell_type": "markdown",
      "metadata": {
        "id": "xDT8elnF1FKY"
      },
      "source": [
        "Now generate a new image conditioned on the depth map, initial image, and prompt:"
      ]
    },
    {
      "cell_type": "code",
      "execution_count": null,
      "metadata": {
        "id": "I_OZaHl11FKY"
      },
      "outputs": [],
      "source": [
        "prompt = \"Astronaut in a jungle, cold color palette, muted colors, detailed, 8k\"\n",
        "image_control_net = pipeline(prompt, image=init_image, control_image=depth_image).images[0]\n",
        "make_image_grid([init_image, depth_image, image_control_net], rows=1, cols=3)"
      ]
    },
    {
      "cell_type": "markdown",
      "metadata": {
        "id": "fth4ARUX1FKZ"
      },
      "source": [
        "<div class=\"flex flex-row gap-4\">\n",
        "  <div class=\"flex-1\">\n",
        "    <img class=\"rounded-xl\" src=\"https://huggingface.co/datasets/huggingface/documentation-images/resolve/main/diffusers/img2img-init.png\"/>\n",
        "    <figcaption class=\"mt-2 text-center text-sm text-gray-500\">initial image</figcaption>\n",
        "  </div>\n",
        "  <div class=\"flex-1\">\n",
        "    <img class=\"rounded-xl\" src=\"https://huggingface.co/lllyasviel/control_v11f1p_sd15_depth/resolve/main/images/control.png\"/>\n",
        "    <figcaption class=\"mt-2 text-center text-sm text-gray-500\">depth image</figcaption>\n",
        "  </div>\n",
        "  <div class=\"flex-1\">\n",
        "    <img class=\"rounded-xl\" src=\"https://huggingface.co/datasets/huggingface/documentation-images/resolve/main/diffusers/img2img-controlnet.png\"/>\n",
        "    <figcaption class=\"mt-2 text-center text-sm text-gray-500\">ControlNet image</figcaption>\n",
        "  </div>\n",
        "</div>\n",
        "\n",
        "Let's apply a new [style](https://huggingface.co/nitrosocke/elden-ring-diffusion) to the image generated from the ControlNet by chaining it with an image-to-image pipeline:"
      ]
    },
    {
      "cell_type": "code",
      "execution_count": null,
      "metadata": {
        "id": "QikGnYHZ1FKa"
      },
      "outputs": [],
      "source": [
        "pipeline = AutoPipelineForImage2Image.from_pretrained(\n",
        "    \"nitrosocke/elden-ring-diffusion\", torch_dtype=torch.float16,\n",
        ")\n",
        "pipeline.enable_model_cpu_offload()\n",
        "# remove following line if xFormers is not installed or you have PyTorch 2.0 or higher installed\n",
        "pipeline.enable_xformers_memory_efficient_attention()\n",
        "\n",
        "prompt = \"elden ring style astronaut in a jungle\" # include the token \"elden ring style\" in the prompt\n",
        "negative_prompt = \"ugly, deformed, disfigured, poor details, bad anatomy\"\n",
        "\n",
        "image_elden_ring = pipeline(prompt, negative_prompt=negative_prompt, image=image_control_net, strength=0.45, guidance_scale=10.5).images[0]\n",
        "make_image_grid([init_image, depth_image, image_control_net, image_elden_ring], rows=2, cols=2)"
      ]
    },
    {
      "cell_type": "markdown",
      "metadata": {
        "id": "tC6jDE-I1FKa"
      },
      "source": [
        "<div class=\"flex justify-center\">\n",
        "  <img src=\"https://huggingface.co/datasets/huggingface/documentation-images/resolve/main/diffusers/img2img-elden-ring.png\">\n",
        "</div>"
      ]
    },
    {
      "cell_type": "markdown",
      "metadata": {
        "id": "W0A_rL-T1FKb"
      },
      "source": [
        "## Optimize"
      ]
    },
    {
      "cell_type": "markdown",
      "metadata": {
        "id": "acoryJMg1FKb"
      },
      "source": [
        "Running diffusion models is computationally expensive and intensive, but with a few optimization tricks, it is entirely possible to run them on consumer and free-tier GPUs. For example, you can use a more memory-efficient form of attention such as PyTorch 2.0's [scaled-dot product attention](https://huggingface.co/docs/diffusers/main/en/using-diffusers/../optimization/fp16#scaled-dot-product-attention) or [xFormers](https://huggingface.co/docs/diffusers/main/en/using-diffusers/../optimization/xformers) (you can use one or the other, but there's no need to use both). You can also offload the model to the GPU while the other pipeline components wait on the CPU.\n",
        "\n",
        "```diff\n",
        "+ pipeline.enable_model_cpu_offload()\n",
        "+ pipeline.enable_xformers_memory_efficient_attention()\n",
        "```\n",
        "\n",
        "With [`torch.compile`](https://huggingface.co/docs/diffusers/main/en/using-diffusers/../optimization/fp16#torchcompile), you can boost your inference speed even more by wrapping your UNet with it:"
      ]
    },
    {
      "cell_type": "code",
      "execution_count": null,
      "metadata": {
        "id": "04Qs7maq1FKc"
      },
      "outputs": [],
      "source": [
        "pipeline.unet = torch.compile(pipeline.unet, mode=\"reduce-overhead\", fullgraph=True)"
      ]
    },
    {
      "cell_type": "markdown",
      "metadata": {
        "id": "MTBqHU5_1FKd"
      },
      "source": [
        "To learn more, take a look at the [Reduce memory usage](https://huggingface.co/docs/diffusers/main/en/using-diffusers/../optimization/memory) and [Accelerate inference](https://huggingface.co/docs/diffusers/main/en/using-diffusers/../optimization/fp16) guides."
      ]
    }
  ],
  "metadata": {
    "colab": {
      "provenance": [],
      "include_colab_link": true
    },
    "language_info": {
      "name": "python"
    },
    "kernelspec": {
      "name": "python3",
      "display_name": "Python 3"
    }
  },
  "nbformat": 4,
  "nbformat_minor": 0
}